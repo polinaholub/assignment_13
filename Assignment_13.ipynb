{
 "cells": [
  {
   "cell_type": "markdown",
   "metadata": {},
   "source": [
    "### Lesson practice (we already did it during the lesson)"
   ]
  },
  {
   "cell_type": "code",
   "execution_count": 7,
   "metadata": {},
   "outputs": [],
   "source": [
    "class Country:\n",
    "    def __init__(self, name: str, population: int, capital: str):\n",
    "        self.name = name\n",
    "        self.population = population\n",
    "        self.capital = capital\n",
    "\n",
    "    def increase_population(self):\n",
    "        return self.population * self.population\n",
    "    \n",
    "\n",
    "    #def description(self):\n",
    "       #return f''"
   ]
  },
  {
   "cell_type": "code",
   "execution_count": 8,
   "metadata": {},
   "outputs": [
    {
     "name": "stdout",
     "output_type": "stream",
     "text": [
      "Japan population is 140000000 and capital is Tokyo.\n",
      "increase_population: 19600000000000000\n"
     ]
    }
   ],
   "source": [
    "japan = Country('Japan', 140_000_000, 'Tokyo')\n",
    "print(f\"{japan.name} population is {japan.population} and capital is {japan.capital}.\") \n",
    "print(\"increase_population:\", japan.increase_population())"
   ]
  },
  {
   "cell_type": "markdown",
   "metadata": {},
   "source": [
    "### Homework Practice"
   ]
  },
  {
   "cell_type": "markdown",
   "metadata": {},
   "source": [
    "1) Create add method to add two countries together. This method should create another country object with the name of the two countries combined and population of the two countries added together."
   ]
  },
  {
   "cell_type": "code",
   "execution_count": 62,
   "metadata": {},
   "outputs": [],
   "source": [
    "class Country:\n",
    "\n",
    "    def __init__(self, name, population):\n",
    "        self.name = name\n",
    "        self.population = population\n",
    "\n",
    "    def add(self, other):\n",
    "        add_names = self.name + ' ' + other.name\n",
    "        add_populations = self.population + other.population\n",
    "        return Country(add_names, add_populations)\n",
    "        \n"
   ]
  },
  {
   "cell_type": "code",
   "execution_count": 64,
   "metadata": {},
   "outputs": [
    {
     "name": "stdout",
     "output_type": "stream",
     "text": [
      "15000000\n",
      "Bosnia Herzegovina\n"
     ]
    }
   ],
   "source": [
    "bosnia = Country('Bosnia', 10_000_000)\n",
    "herzegovina = Country('Herzegovina', 5_000_000)\n",
    "\n",
    "bosnia_herzegovina = bosnia.add(herzegovina)\n",
    "print(bosnia_herzegovina.population)\n",
    "print(bosnia_herzegovina.name)\n",
    "#bosnia_herzegovina.population -> 15_000_000\n",
    "#bosnia_herzegovina.name -> 'Bosnia Herzegovina'"
   ]
  },
  {
   "cell_type": "markdown",
   "metadata": {},
   "source": [
    "2. Implement previous method with magic method"
   ]
  },
  {
   "cell_type": "code",
   "execution_count": 79,
   "metadata": {},
   "outputs": [],
   "source": [
    "class Country:\n",
    "\n",
    "    def __init__(self, name, population):\n",
    "        self.name = name\n",
    "        self.population = population\n",
    "\n",
    "    def __add__(self, other):\n",
    "        add_names = self.name + ' ' + other.name\n",
    "        add_populations = self.population + other.population\n",
    "        return Country(add_names, add_populations)"
   ]
  },
  {
   "cell_type": "code",
   "execution_count": 80,
   "metadata": {},
   "outputs": [
    {
     "name": "stdout",
     "output_type": "stream",
     "text": [
      "15000000\n",
      "Bosnia Herzegovina\n"
     ]
    }
   ],
   "source": [
    "bosnia = Country('Bosnia', 10_000_000)\n",
    "herzegovina = Country('Herzegovina', 5_000_000)\n",
    "\n",
    "bosnia_herzegovina = bosnia + herzegovina\n",
    "\n",
    "print(bosnia_herzegovina.population)\n",
    "print(bosnia_herzegovina.name)"
   ]
  },
  {
   "cell_type": "markdown",
   "metadata": {},
   "source": [
    " 3. Create a Car class with the following attributes: brand, model, year, and speed. The Car class should have the following methods: accelerate, brake and display_speed. The accelerate method should increase the speed by 5, and the brake method should decrease the speed by 5. Remember that the speed cannot be negative."
   ]
  },
  {
   "cell_type": "code",
   "execution_count": 15,
   "metadata": {},
   "outputs": [],
   "source": [
    "class Car:\n",
    "\n",
    "    def __init__(self, brand: str, model: str, year: int, speed: int):\n",
    "        self.brand = brand\n",
    "        self.model = model\n",
    "        self.year = year\n",
    "        self.speed = speed\n",
    "\n",
    "    def accelerate(self):\n",
    "        self.speed += 5\n",
    "        return self.speed\n",
    "\n",
    "    def brake(self):\n",
    "        if self.speed >= 5:\n",
    "            self.speed -= 5\n",
    "        else:\n",
    "            raise ValueError('The speed cannot be negative')\n",
    "        return self.speed\n",
    "\n",
    "\n"
   ]
  },
  {
   "cell_type": "code",
   "execution_count": 20,
   "metadata": {},
   "outputs": [
    {
     "data": {
      "text/plain": [
       "10"
      ]
     },
     "execution_count": 20,
     "metadata": {},
     "output_type": "execute_result"
    }
   ],
   "source": [
    "car = Car('BMW', '2022', 2022, 10)\n",
    "\n",
    "car.accelerate()\n",
    "car.brake()"
   ]
  },
  {
   "cell_type": "markdown",
   "metadata": {},
   "source": [
    "4. Create a Robot class with the following attributes: orientation, position_x, position_y. The Robot class should have the following methods: move, turn, and display_position. The move method should take a number of steps and move the robot in the direction it is currently facing. The turn method should take a direction (left or right) and turn the robot in that direction. The display_position method should print the current position of the robot."
   ]
  },
  {
   "cell_type": "code",
   "execution_count": 35,
   "metadata": {},
   "outputs": [],
   "source": [
    "class Robot:\n",
    "\n",
    "    def __init__(self, orientation, position_x, position_y):\n",
    "        self.orientation = orientation\n",
    "        self.position_x = position_x\n",
    "        self.position_y = position_y\n",
    "\n",
    "    def move(self, number_steps):\n",
    "        if self.orientation == 'up':\n",
    "            self.position_y += number_steps\n",
    "        elif self.orientation == 'down':\n",
    "            self.position_y -= number_steps\n",
    "        elif self.orientation == 'left':\n",
    "            self.position_x += number_steps\n",
    "        elif self.orientation == 'right':\n",
    "            self.position_y += number_steps\n",
    "\n",
    "    def turn(self, direction):\n",
    "        if direction.lower() == 'right':\n",
    "            self.orientation = 'right'\n",
    "        elif direction.lower() == 'left':\n",
    "            self.orientation = 'left'\n",
    "        else:\n",
    "            raise ValueError(\"Invalid direction\")       \n",
    "\n",
    "    def display_position(self):\n",
    "        print(f\"The currect position of the robot is {self.position_x}, {self.position_y} and facing {self.orientation}\")"
   ]
  },
  {
   "cell_type": "code",
   "execution_count": 36,
   "metadata": {},
   "outputs": [
    {
     "name": "stdout",
     "output_type": "stream",
     "text": [
      "The currect position of the robot is 0, 5 and facing right\n"
     ]
    }
   ],
   "source": [
    "robot = Robot('down', 0, 0)\n",
    "robot.turn('right')\n",
    "robot.move(5)\n",
    "robot.display_position()"
   ]
  }
 ],
 "metadata": {
  "kernelspec": {
   "display_name": "Python 3",
   "language": "python",
   "name": "python3"
  },
  "language_info": {
   "codemirror_mode": {
    "name": "ipython",
    "version": 3
   },
   "file_extension": ".py",
   "mimetype": "text/x-python",
   "name": "python",
   "nbconvert_exporter": "python",
   "pygments_lexer": "ipython3",
   "version": "3.11.4"
  },
  "orig_nbformat": 4
 },
 "nbformat": 4,
 "nbformat_minor": 2
}
